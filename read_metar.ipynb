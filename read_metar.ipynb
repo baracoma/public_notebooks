{
 "cells": [
  {
   "cell_type": "markdown",
   "id": "915787a8-128b-403c-902f-5ec1cd702c09",
   "metadata": {},
   "source": [
    "#### Imports"
   ]
  },
  {
   "cell_type": "code",
   "execution_count": 1,
   "id": "9efd6861-f5f1-4058-86e5-09e774a2889d",
   "metadata": {},
   "outputs": [],
   "source": [
    "# download data\n",
    "import re\n",
    "import requests\n",
    "import pandas as pd\n",
    "from bs4 import BeautifulSoup\n",
    "\n",
    "# decode data\n",
    "from pymetdecoder import synop as s\n",
    "\n",
    "#process data\n",
    "import datetime as dt\n",
    "import numpy as np\n",
    "import matplotlib.pyplot as plt"
   ]
  },
  {
   "cell_type": "code",
   "execution_count": 2,
   "id": "6c374118-527f-417c-8b16-741ad3017382",
   "metadata": {},
   "outputs": [],
   "source": [
    "def download_ogimet(dt_start, n_days=5,station='98430'):\n",
    "    df = pd.DataFrame(columns=['datetime', 'precipitation', 'duration'])\n",
    "    for i in range(n_days*8):\n",
    "        tcdt = dt_start + dt.timedelta(hours=3*i)\n",
    "        url = 'https://www.ogimet.com/cgi-bin/decomet?ind={station}&ano={yyyy}&mes={mm:02d}&day={dd:02d}&hora={hh:02d}&min=00&single=yes&lang=en'.format(station=station, yyyy=tcdt.year, mm=tcdt.month, dd=tcdt.day, hh=tcdt.hour)\n",
    "        soup = BeautifulSoup(requests.get(url).content, \"html.parser\")\n",
    "    \n",
    "        synop = soup.find('pre').contents[0]\n",
    "        synop = synop.replace('/\\n                   ', ' ').replace('==', '')\n",
    "        synopdt = dt.datetime.strptime(synop[:12], '%Y%m%d%H%M')\n",
    "        synopd = s.SYNOP().decode(synop[13:])\n",
    "    \n",
    "        if synopd['precipitation_indicator']['value']==4:\n",
    "            prcpt_amt = np.nan\n",
    "            prcpt_dur = np.nan\n",
    "        elif synopd['precipitation_indicator']['in_group_1']:\n",
    "            prcpt_amt = synopd['precipitation_s1']['amount']['value']\n",
    "            prcpt_dur = synopd['precipitation_s1']['time_before_obs']['value']\n",
    "        elif synopd['precipitation_indicator']['in_group_3']:\n",
    "            prcpt_amt = synopd['precipitation_s3']['amount']['value']\n",
    "            prcpt_dur = synopd['precipitation_s3']['time_before_obs']['value']    \n",
    "    \n",
    "    \n",
    "        df.loc[len(df.index)] = [tcdt, prcpt_amt, prcpt_dur] \n",
    "    return df"
   ]
  },
  {
   "cell_type": "markdown",
   "id": "178d87cd-b6b1-4e96-af61-a44bcd5b08ea",
   "metadata": {},
   "source": [
    "#### Carina + Habagat (2024)"
   ]
  },
  {
   "cell_type": "code",
   "execution_count": null,
   "id": "86b44f04-c937-4340-8646-681765070856",
   "metadata": {
    "scrolled": true
   },
   "outputs": [
    {
     "name": "stderr",
     "output_type": "stream",
     "text": [
      "WARNING:root:8211 is not a valid group\n",
      "WARNING:root:8222 is not a valid group\n",
      "WARNING:root:8222 is not a valid group\n",
      "WARNING:root:8422 is not a valid group\n",
      "WARNING:root:8411 is not a valid group\n",
      "WARNING:root:8211 is not a valid group\n",
      "WARNING:root:8392 is not a valid group\n",
      "WARNING:root:8422 is not a valid group\n",
      "WARNING:root:8491 is not a valid group\n",
      "WARNING:root:8322 is not a valid group\n",
      "WARNING:root:8352 is not a valid group\n",
      "WARNING:root:8492 is not a valid group\n",
      "WARNING:root:8252 is not a valid group\n",
      "WARNING:root:8552 is not a valid group\n",
      "WARNING:root:8652 is not a valid group\n",
      "WARNING:root:8652 is not a valid group\n",
      "WARNING:root:8552 is not a valid group\n",
      "WARNING:root:8651 is not a valid group\n",
      "WARNING:root:8322 is not a valid group\n",
      "WARNING:root:8227 is not a valid group\n",
      "WARNING:root:8392 is not a valid group\n",
      "WARNING:root:8392 is not a valid group\n",
      "WARNING:root:8272 is not a valid group\n",
      "WARNING:root:8392 is not a valid group\n",
      "WARNING:root:8372 is not a valid group\n",
      "WARNING:root:8272 is not a valid group\n",
      "WARNING:root:8552 is not a valid group\n",
      "WARNING:root:8452 is not a valid group\n",
      "WARNING:root:8552 is not a valid group\n",
      "WARNING:root:8352 is not a valid group\n",
      "WARNING:root:8451 is not a valid group\n",
      "WARNING:root:8452 is not a valid group\n"
     ]
    }
   ],
   "source": [
    "tcdt_start = dt.datetime(2024,7,21,0,0)\n",
    "df_h = download_ogimet(tcdt_start)\n"
   ]
  },
  {
   "cell_type": "markdown",
   "id": "e0d7348b-40c8-4dce-8ca1-e36bc0e6f2a0",
   "metadata": {},
   "source": [
    "#### Ondoy (2009)"
   ]
  },
  {
   "cell_type": "code",
   "execution_count": null,
   "id": "b76890f1-61b0-4c3f-84c0-6cc78a392107",
   "metadata": {
    "scrolled": true
   },
   "outputs": [],
   "source": [
    "tcdt_start = dt.datetime(2009,9,24,0,0)\n",
    "df_o = download_ogimet(tcdt_start)"
   ]
  },
  {
   "cell_type": "markdown",
   "id": "c3cd647a-68e6-41b1-89dd-89bb21a906dd",
   "metadata": {},
   "source": [
    "#### Filter every 24hr"
   ]
  },
  {
   "cell_type": "code",
   "execution_count": null,
   "id": "8deb30ac-28df-4c2b-9c88-9c49f02f37dc",
   "metadata": {},
   "outputs": [],
   "source": [
    "idxh = df_h['datetime'].dt.hour == 0\n",
    "idxo = df_o['datetime'].dt.hour == 0\n",
    "\n",
    "df_h_24 = df_h[idxh]\n",
    "df_o_24 = df_o[idxo]\n",
    "\n",
    "# fix first point for h+c (sorry tinatamad na ko mag-isip pano tanggalin ang NaT)\n",
    "df_h_24.at[0, 'precipitation'] = 0\n",
    "df_h_24.at[0, 'duration'] = 0"
   ]
  },
  {
   "cell_type": "markdown",
   "id": "36d65c82-a982-4022-8dd8-4305683be218",
   "metadata": {},
   "source": [
    "#### Calculate cumulative sum"
   ]
  },
  {
   "cell_type": "code",
   "execution_count": null,
   "id": "4523fd50-1ee8-4205-827e-38af4fb495cb",
   "metadata": {},
   "outputs": [],
   "source": [
    "df_h_24['cumulative'] = df_h_24.precipitation.cumsum()\n",
    "df_o_24['cumulative'] = df_o_24.precipitation.cumsum()"
   ]
  },
  {
   "cell_type": "code",
   "execution_count": null,
   "id": "994cf2af-38bc-4f7a-bc66-56ef283c9ccb",
   "metadata": {},
   "outputs": [],
   "source": [
    "plt.rcParams[\"font.family\"] = \"Comic Sans MS\"\n",
    "\n",
    "fig, axs = plt.subplots(1,2,figsize=(9, 4), sharey=True)\n",
    "\n",
    "fig.suptitle('Science Garden Synoptic Station (98430)', fontsize=14,  y=0.95)\n",
    "cum_o = axs[0].plot(df_o_24['datetime'], df_o_24['cumulative'], color='k', label='Cumulative (mm)')\n",
    "daily_o = axs[0].bar(df_o_24['datetime'], df_o_24['precipitation'], label='Daily (mm/24hr)')\n",
    "axs[0].set_ylim([0,700])\n",
    "axs[0].tick_params(axis='x', labelrotation=90, labelsize=8) \n",
    "axs[0].grid(alpha=0.25)\n",
    "axs[0].set_title('Ondoy (Sept 2009)', fontsize=10)\n",
    "\n",
    "cum_h = axs[1].plot(df_h_24['datetime'], df_h_24['cumulative'], color='k')\n",
    "daily_h = axs[1].bar(df_h_24['datetime'], df_h_24['precipitation'])\n",
    "axs[1].set_ylim([0,700])\n",
    "axs[1].tick_params(axis='x', labelrotation=90, labelsize=8) \n",
    "axs[1].grid(alpha=0.25)\n",
    "axs[1].set_title('Habagat + Carina (July 2024)' , fontsize=10)\n",
    "\n",
    "fig.legend(['Cumulative (mm)', 'Daily (mm/24hr)'], loc='upper center', \n",
    "           bbox_to_anchor=(0.15, .83), ncol=1,\n",
    "          fontsize=8)\n",
    "plt.tight_layout()\n",
    "\n",
    "import matplotlib.dates as mdates\n",
    "axs[0].xaxis.set_major_formatter(mdates.DateFormatter('%Y-%m-%d'))\n",
    "axs[1].xaxis.set_major_formatter(mdates.DateFormatter('%Y-%m-%d'))\n",
    "\n",
    "# rotate and align the tick labels so they look better\n",
    "fig.autofmt_xdate()\n",
    "plt.savefig('ondoy_carina.png', dpi=300)\n",
    "\n",
    "plt.show()\n"
   ]
  },
  {
   "cell_type": "markdown",
   "id": "e08fd935-e87e-46cc-a3ea-714d866b0acf",
   "metadata": {},
   "source": [
    "#### Habagat (2012)"
   ]
  },
  {
   "cell_type": "code",
   "execution_count": null,
   "id": "6e9447a5-134d-44b4-aaa6-907e9d44f131",
   "metadata": {
    "scrolled": true
   },
   "outputs": [],
   "source": [
    "tcdt_start = dt.datetime(2012,8,5,0,0)\n",
    "df_h2012 = download_ogimet(tcdt_start)"
   ]
  },
  {
   "cell_type": "markdown",
   "id": "2e22d6da-1dc2-4cf6-950b-58f68dcf98b7",
   "metadata": {},
   "source": [
    "#### Filter every 24 hr and calculate cumulative sum"
   ]
  },
  {
   "cell_type": "code",
   "execution_count": null,
   "id": "1c30913f-6051-428c-9c26-74d8ac87e17b",
   "metadata": {},
   "outputs": [],
   "source": [
    "idxh2012 = df_h2012['datetime'].dt.hour == 0\n",
    "df_h2012_24 = df_h2012[idxh2012]\n",
    "df_h2012_24['cumulative'] = df_h2012_24.precipitation.cumsum()"
   ]
  },
  {
   "cell_type": "code",
   "execution_count": null,
   "id": "05e5f8dc-d86d-40eb-bb7d-12ad0b7cb644",
   "metadata": {},
   "outputs": [],
   "source": [
    "plt.rcParams[\"font.family\"] = \"Comic Sans MS\"\n",
    "\n",
    "fig, axs = plt.subplots(1,3,figsize=(9, 4), sharey=True)\n",
    "\n",
    "fig.suptitle('Science Garden Synoptic Station (98430)', fontsize=14,  y=0.95)\n",
    "cum_o = axs[0].plot(df_o_24['datetime'], df_o_24['cumulative'], color='k', label='Cumulative (mm)')\n",
    "daily_o = axs[0].bar(df_o_24['datetime'], df_o_24['precipitation'], label='Daily (mm/24hr)')\n",
    "axs[0].set_ylim([0,1200])\n",
    "axs[0].tick_params(axis='x', labelrotation=90, labelsize=8) \n",
    "axs[0].grid(alpha=0.25)\n",
    "axs[0].set_title('Ondoy (Sept 2009)', fontsize=10)\n",
    "\n",
    "cum_h2012 = axs[1].plot(df_h2012_24['datetime'], df_h2012_24['cumulative'], color='k')\n",
    "daily_h2012 = axs[1].bar(df_h2012_24['datetime'], df_h2012_24['precipitation'])\n",
    "# axs[1].set_ylim([0,700])\n",
    "axs[1].tick_params(axis='x', labelrotation=90, labelsize=8) \n",
    "axs[1].grid(alpha=0.25)\n",
    "axs[1].set_title('Habagat + Haikui (August 2012)' , fontsize=10)\n",
    "\n",
    "cum_h = axs[2].plot(df_h_24['datetime'], df_h_24['cumulative'], color='k')\n",
    "daily_h = axs[2].bar(df_h_24['datetime'], df_h_24['precipitation'])\n",
    "# axs[2].set_ylim([0,700])\n",
    "axs[2].tick_params(axis='x', labelrotation=90, labelsize=8) \n",
    "axs[2].grid(alpha=0.25)\n",
    "axs[2].set_title('Habagat + Carina (July 2024)' , fontsize=10)\n",
    "\n",
    "\n",
    "\n",
    "fig.legend(['Cumulative (mm)', 'Daily (mm/24hr)'], loc='upper center', \n",
    "           bbox_to_anchor=(0.15, .83), ncol=1,\n",
    "          fontsize=8)\n",
    "plt.tight_layout()\n",
    "\n",
    "import matplotlib.dates as mdates\n",
    "axs[0].xaxis.set_major_formatter(mdates.DateFormatter('%Y-%m-%d'))\n",
    "axs[1].xaxis.set_major_formatter(mdates.DateFormatter('%Y-%m-%d'))\n",
    "axs[2].xaxis.set_major_formatter(mdates.DateFormatter('%Y-%m-%d'))\n",
    "# rotate and align the tick labels so they look better\n",
    "fig.autofmt_xdate()\n",
    "plt.savefig('ondoy_carina_haikui.png', dpi=300)\n",
    "\n",
    "plt.show()\n"
   ]
  }
 ],
 "metadata": {
  "kernelspec": {
   "display_name": "research",
   "language": "python",
   "name": "research"
  },
  "language_info": {
   "codemirror_mode": {
    "name": "ipython",
    "version": 3
   },
   "file_extension": ".py",
   "mimetype": "text/x-python",
   "name": "python",
   "nbconvert_exporter": "python",
   "pygments_lexer": "ipython3",
   "version": "3.12.4"
  }
 },
 "nbformat": 4,
 "nbformat_minor": 5
}
